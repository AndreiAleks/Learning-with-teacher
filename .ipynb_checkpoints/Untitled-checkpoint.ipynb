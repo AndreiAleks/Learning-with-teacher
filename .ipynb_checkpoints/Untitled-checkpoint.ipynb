{
 "cells": [
  {
   "cell_type": "markdown",
   "id": "8b7c9e39-f9af-4c1e-a5f7-10f1e92d2cf9",
   "metadata": {},
   "source": [
    "# Проект: Обучение с учителем: качество модели"
   ]
  },
  {
   "cell_type": "markdown",
   "id": "f82dfde2-bb32-4319-86d3-be72a2b4a62c",
   "metadata": {},
   "source": [
    "### Описание проекта"
   ]
  },
  {
   "cell_type": "markdown",
   "id": "49b1ef72-f55f-4094-bcf3-04f273c8baa9",
   "metadata": {},
   "source": [
    "**Цель:**\n",
    "\n",
    "**Разработать решение, которое позволит персонализировать предложения постоянным клиентам, чтобы увеличить их покупательскую активность.**\n",
    "\n",
    "**Цель подробнее:**\n",
    "\n",
    "1. Нужно промаркировать уровень финансовой активности постоянных покупателей. В компании принято выделять два уровня активности: «снизилась», если клиент стал покупать меньше товаров, и «прежний уровень».\n",
    "2. Нужно собрать данные по клиентам по следующим группам:\n",
    "    - Признаки, которые описывают коммуникацию сотрудников компании с клиентом.\n",
    "    - Признаки, которые описывают продуктовое поведение покупателя. Например, какие товары покупает и как часто.\n",
    "    - Признаки, которые описывают покупательское поведение клиента. Например, сколько тратил в магазине.\n",
    "    - Признаки, которые описывают поведение покупателя на сайте. Например, как много страниц просматривает и сколько времени проводит на сайте.\n",
    "\n",
    "3. Нужно построить модель, которая предскажет вероятность снижения покупательской активности клиента в следующие три месяца.\n",
    "4. В исследование нужно включить дополнительные данные финансового департамента о прибыльности клиента: какой доход каждый покупатель приносил компании за последние три месяца.\n",
    "5. Используя данные модели и данные о прибыльности клиентов, нужно выделить сегменты покупателей и разработать для них персонализированные предложения.\n",
    "\n",
    "**Данные:**\n",
    "\n",
    "Данные для работы находятся в нескольких таблицах.\n",
    "\n",
    "`market_file.csv`\n",
    "\n",
    "Таблица, которая содержит данные о поведении покупателя на сайте, о коммуникациях с покупателем и его продуктовом поведении.\n",
    "- `id` — номер покупателя в корпоративной базе данных.\n",
    "- `Покупательская активность` — рассчитанный класс покупательской активности (целевой признак): «снизилась» или «прежний уровень».\n",
    "- `Тип сервиса` — уровень сервиса, например «премиум» и «стандарт».\n",
    "- `Разрешить сообщать` — информация о том, можно ли присылать покупателю дополнительные предложения о товаре. Согласие на это даёт покупатель.\n",
    "- `Маркет_актив_6_мес` — среднемесячное значение маркетинговых коммуникаций компании, которое приходилось на покупателя за последние 6 месяцев. Это значение показывает, какое число рассылок, звонков, показов рекламы и прочего приходилось на клиента.\n",
    "- `Маркет_актив_тек_мес` — количество маркетинговых коммуникаций в текущем месяце.\n",
    "- `Длительность` — значение, которое показывает, сколько дней прошло с момента регистрации покупателя на сайте.\n",
    "- `Акционные_покупки` — среднемесячная доля покупок по акции от общего числа покупок за последние 6 месяцев.\n",
    "- `Популярная_категория` — самая популярная категория товаров у покупателя за последние 6 месяцев.\n",
    "- `Средний_просмотр_категорий_за_визит` — показывает, сколько в среднем категорий покупатель просмотрел за визит в течение последнего месяца.\n",
    "- `Неоплаченные_продукты_штук_квартал` — общее число неоплаченных товаров в корзине за последние 3 месяца.\n",
    "- `Ошибка_сервиса` — число сбоев, которые коснулись покупателя во время посещения сайта.\n",
    "- `Страниц_за_визит` — среднее количество страниц, которые просмотрел покупатель за один визит на сайт за последние 3 месяца.\n",
    "\n",
    "`market_money.csv`\n",
    "\n",
    "Таблица с данными о выручке, которую получает магазин с покупателя, то есть сколько покупатель всего потратил за период взаимодействия с сайтом.\n",
    "- `id` — номер покупателя в корпоративной базе данных.\n",
    "- `Период` — название периода, во время которого зафиксирована выручка. Например, 'текущий_месяц' или 'предыдущий_месяц'.\n",
    "- `Выручка` — сумма выручки за период.\n",
    "\n",
    "`market_time.csv`\n",
    "\n",
    "Таблица с данными о времени (в минутах), которое покупатель провёл на сайте в течение периода.\n",
    "- `id` — номер покупателя в корпоративной базе данных.\n",
    "- `Период` — название периода, во время которого зафиксировано общее время.\n",
    "- `минут` — значение времени, проведённого на сайте, в минутах.\n",
    "\n",
    "`money.csv`\n",
    "\n",
    "Таблица с данными о среднемесячной прибыли покупателя за последние 3 месяца: какую прибыль получает магазин от продаж каждому покупателю.\n",
    "- `id` — номер покупателя в корпоративной базе данных.\n",
    "- `Прибыль` — значение прибыли.\n"
   ]
  },
  {
   "cell_type": "markdown",
   "id": "18d0c707-6623-4c46-b2e0-5d0e56d88817",
   "metadata": {},
   "source": [
    "### План работ <a id='plan'></a>"
   ]
  },
  {
   "cell_type": "markdown",
   "id": "dfce1257-5571-42dc-a688-9fbfe3f3e251",
   "metadata": {},
   "source": [
    "1. [Загрузка данных](#1)\n",
    "2. [Предобработка данных](#2)\n",
    "3. [Исследовательский анализ данных](#3)\n",
    "4. [Объединение таблиц](#4)\n",
    "5. [Корреляционный анализ](#5)\n",
    "6. [Использование пайплайнов](#6)\n",
    "7. [Анализ важности признаков](#7)\n",
    "8. [Сегментация покупателей](#8)\n",
    "9. [Общий вывод](#9)"
   ]
  },
  {
   "cell_type": "markdown",
   "id": "2623d302-75d9-49c4-9272-9d62c42fdcae",
   "metadata": {},
   "source": [
    "### Технический блок"
   ]
  },
  {
   "cell_type": "code",
   "execution_count": 1,
   "id": "2f8ed1b4-a092-430c-99a7-79c24692f6f1",
   "metadata": {},
   "outputs": [],
   "source": [
    "#!pip install -U seaborn"
   ]
  },
  {
   "cell_type": "code",
   "execution_count": 2,
   "id": "6d961a4f-2e18-4cb2-bbb3-84d090436988",
   "metadata": {},
   "outputs": [],
   "source": [
    "#!pip install -U phik"
   ]
  },
  {
   "cell_type": "code",
   "execution_count": 3,
   "id": "9febadc2-82bb-464a-9c93-3718031c1758",
   "metadata": {
    "scrolled": true
   },
   "outputs": [],
   "source": [
    "#!pip install -U optuna"
   ]
  },
  {
   "cell_type": "code",
   "execution_count": 4,
   "id": "f03d76dc-06f9-4db8-b62f-da808ee146c1",
   "metadata": {},
   "outputs": [],
   "source": [
    "#!pip install -U optuna-integration"
   ]
  },
  {
   "cell_type": "code",
   "execution_count": 5,
   "id": "b7a951f6-6060-4b55-91e2-a0abc5c48613",
   "metadata": {},
   "outputs": [],
   "source": [
    "#!pip install -U shap"
   ]
  },
  {
   "cell_type": "code",
   "execution_count": null,
   "id": "306e8b02-e60a-4641-9d3b-6757b3635874",
   "metadata": {},
   "outputs": [],
   "source": [
    "# Импорт библиотек\n",
    "import pandas as pd\n",
    "import numpy as np\n",
    "import matplotlib.pyplot as plt\n",
    "import seaborn as sns\n",
    "import math\n",
    "import phik\n",
    "from sklearn.model_selection import train_test_split\n",
    "from sklearn.pipeline import Pipeline, make_pipeline\n",
    "from sklearn.preprocessing import OneHotEncoder, OrdinalEncoder, StandardScaler, MinMaxScaler, RobustScaler\n",
    "from sklearn.compose import ColumnTransformer\n",
    "from sklearn.metrics import roc_auc_score, recall_score\n",
    "from sklearn.model_selection import RandomizedSearchCV, GridSearchCV\n",
    "from sklearn.linear_model import LogisticRegression\n",
    "from sklearn.neighbors import KNeighborsClassifier\n",
    "from sklearn.tree import DecisionTreeClassifier\n",
    "from sklearn.svm import SVC\n",
    "import shap"
   ]
  },
  {
   "cell_type": "code",
   "execution_count": null,
   "id": "8a0cc425-81f6-4276-85ea-23eadd844681",
   "metadata": {},
   "outputs": [],
   "source": [
    "shap.initjs()"
   ]
  },
  {
   "cell_type": "code",
   "execution_count": null,
   "id": "a20316b0-07e6-4699-8f25-434b3196466b",
   "metadata": {},
   "outputs": [],
   "source": [
    "RANDOM_STATE = 42\n",
    "TEST_SIZE = 0.25"
   ]
  },
  {
   "cell_type": "code",
   "execution_count": null,
   "id": "e0a66a40-9ff0-4fb7-b931-010728f27fa5",
   "metadata": {},
   "outputs": [],
   "source": [
    "# Функция для изучения данных\n",
    "def preprocessing_data(df):\n",
    "    '''\n",
    "    Функция предобработки данных\n",
    "    '''\n",
    "    print('\\nINFO\\n')\n",
    "    display(df.info())\n",
    "    print('\\nСлучайные 3 строки данных\\n')\n",
    "    display(df.sample(3))\n",
    "    print('\\nДубликаты\\n')\n",
    "    display(df[df.duplicated()])\n",
    "    for c in df.columns:\n",
    "        display(c)\n",
    "        display(df[c].unique())"
   ]
  },
  {
   "cell_type": "code",
   "execution_count": null,
   "id": "796c59b8-49df-49ab-b0c6-a7a4e5091e1a",
   "metadata": {},
   "outputs": [],
   "source": [
    "def research_diag(df, title):\n",
    "\n",
    "    '''\n",
    "    Функция для отрисовки гистограмм, ящиков с усами и пайчартов по датафрейму\n",
    "    '''\n",
    "    # Делим признаки на численные и категориальные\n",
    "    num_columns = df.select_dtypes(include='number').columns\n",
    "    cat_columns = df.select_dtypes(include='object').columns\n",
    "\n",
    "    if cat_columns.size == 0 and num_columns.size == 1:\n",
    "        fig, ax = plt.subplots(\n",
    "        nrows=1, \n",
    "        ncols= 2, \n",
    "        figsize=(13, 6)\n",
    "        )\n",
    "        fig.suptitle(title, size = 15)\n",
    "\n",
    "        sns.histplot(df, x=num_columns[0], bins=30, kde=True, ax=ax[0])\n",
    "        ax[0].set_title(num_columns[0], size=13)\n",
    "        ax[0].set_xlabel(num_columns[0])\n",
    "\n",
    "        sns.boxplot(df, y=num_columns[0], ax=ax[1])\n",
    "        ax[1].set_title(num_columns[0], size=13)\n",
    "\n",
    "    elif cat_columns.size == 1 and num_columns.size == 0:\n",
    "        fig, ax = plt.subplots(\n",
    "        nrows=1, \n",
    "        ncols= 0, \n",
    "        figsize=(13, 6)\n",
    "        )\n",
    "        fig.suptitle(title, size = 15)\n",
    "\n",
    "        a.pie(df[c].value_counts(), \n",
    "                labels=df[cat_columns[0]].value_counts().index, \n",
    "                autopct='%.0f%%')\n",
    "        a.set_title(cat_columns[0], size = 15)\n",
    "        \n",
    "    else:\n",
    "        \n",
    "                     \n",
    "        if cat_columns.size == 0 and num_columns.size > 1:\n",
    "            fig, ax = plt.subplots(\n",
    "            nrows=num_columns.size, \n",
    "            ncols= 2, \n",
    "            figsize=(13, num_columns.size *6)\n",
    "            )\n",
    "            axes_hist = []\n",
    "            axes_box = []\n",
    "            for i in range(0, num_columns.size): axes_hist.append(ax[i,0]), axes_box.append(ax[i,1])\n",
    "            \n",
    "        elif num_columns.size == 0 and cat_columns.size > 1:\n",
    "            fig, ax = plt.subplots(\n",
    "            nrows=math.ceil(cat_columns.size /2), \n",
    "            ncols= 2, \n",
    "            figsize=(13, cat_columns.size *3)\n",
    "            )\n",
    "            axes_pie = []\n",
    "            for i in range(0, math.ceil(cat_columns.size /2)): \n",
    "                axes_pie.append(ax[i,0]), axes_pie.append(ax[i,1])\n",
    "    \n",
    "    \n",
    "            \n",
    "        else:\n",
    "            fig, ax = plt.subplots(\n",
    "            nrows=(num_columns.size + math.ceil(cat_columns.size /2)), \n",
    "            ncols= 2, \n",
    "            figsize=(13, ((num_columns.size *6) + (cat_columns.size *3)))\n",
    "            )\n",
    "            axes_hist = []\n",
    "            axes_box = []\n",
    "            for i in range(0, num_columns.size): axes_hist.append(ax[i,0]), axes_box.append(ax[i,1])\n",
    "            axes_pie = []\n",
    "            for i in range(num_columns.size, (num_columns.size + math.ceil(cat_columns.size /2))): \n",
    "                axes_pie.append(ax[i,0]), axes_pie.append(ax[i,1])\n",
    "        \n",
    "            \n",
    "            \n",
    "        fig.suptitle(title, size = 15, y=0.91)\n",
    "        \n",
    "        # Графики по численным признакам\n",
    "        \n",
    "        for a, c in zip(axes_hist, num_columns):\n",
    "            sns.histplot(df, x=c, bins=30, kde=True, ax=a)\n",
    "            a.set_title(c, size=13)\n",
    "            a.set_xlabel(c)\n",
    "        \n",
    "        for a, c in zip(axes_box, num_columns):\n",
    "            sns.boxplot(df, y=c, ax=a)\n",
    "            a.set_title(c, size=13)\n",
    "    \n",
    "        # Графики по категориальным признакам\n",
    "        \n",
    "        for a, c in zip(axes_pie, cat_columns):\n",
    "            a.pie(df[c].value_counts(), \n",
    "                    labels=df[c].value_counts().index, \n",
    "                    autopct='%.0f%%')\n",
    "            a.set_title(c, size = 15)\n",
    "    \n",
    "        \n",
    "plt.show()"
   ]
  },
  {
   "cell_type": "code",
   "execution_count": null,
   "id": "fb2d0a55-998b-45e2-a242-50f48a596d91",
   "metadata": {},
   "outputs": [],
   "source": [
    "def df_merge(df1, df2):\n",
    "    '''\n",
    "    Функция для объединения датафреймов по периодам\n",
    "    '''\n",
    "    period = df2[df2.columns[0]].unique()\n",
    "    for p in period:\n",
    "        df1 = df1.merge(df2[df2[df2.columns[0]] == p], how='outer', left_index=True, right_index=True)\n",
    "        df1 = df1.rename(columns={df1.columns[-1]: (df1.columns[-1] + '_' + p)})\n",
    "    return df1    "
   ]
  },
  {
   "cell_type": "code",
   "execution_count": null,
   "id": "81934fa0-b0c3-4372-a841-64d02e94da08",
   "metadata": {},
   "outputs": [],
   "source": [
    "def matrix_corr(data, title='Матрица Корреляции', vmin=0, vmax=1):\n",
    "    '''\n",
    "    Функция строит матрицу корреляции\n",
    "\n",
    "    Args:\n",
    "        data: pd.DataFrame\n",
    "        title: figure title\n",
    "        vmin, vmax: Values to anchor the colormap  \n",
    "    Returns:\n",
    "        sns.heatmap()\n",
    "    '''\n",
    "    fig, ax = plt.subplots(figsize=(7, 7))\n",
    "    plt.title(title, fontsize=15)\n",
    "    hmap = sns.heatmap(data, ax=ax, annot=True, vmin=vmin, vmax=vmax,\n",
    "                       square=True, cmap='coolwarm', cbar=False)\n",
    "    plt.show()"
   ]
  },
  {
   "cell_type": "markdown",
   "id": "79d69842-9ccc-43d4-b666-3b210437882b",
   "metadata": {},
   "source": [
    "## [Загрузка данных](#plan) <a id='1'></a>"
   ]
  },
  {
   "cell_type": "markdown",
   "id": "298f174a-3de9-4292-903e-a0c8566caf86",
   "metadata": {},
   "source": [
    "Загрузим данные"
   ]
  },
  {
   "cell_type": "code",
   "execution_count": null,
   "id": "7bb2af5d-86ec-467c-8e4e-d3d401c10078",
   "metadata": {},
   "outputs": [],
   "source": [
    "try:\n",
    "    market_file = pd.read_csv(\n",
    "        '/Users/andreyalekseev/Documents_local/Yandex.Disk.localized/Practicum/6. Learning with teacher quality of model/Project/market_file.csv')\n",
    "except:\n",
    "    market_file = pd.read_csv('/datasets/market_file.csv')\n",
    "try:\n",
    "    market_money = pd.read_csv(\n",
    "        '/Users/andreyalekseev/Documents_local/Yandex.Disk.localized/Practicum/6. Learning with teacher quality of model/Project/market_money.csv')\n",
    "except:\n",
    "    market_money = pd.read_csv('/datasets/market_money.csv')\n",
    "try:\n",
    "    market_time = pd.read_csv(\n",
    "        '/Users/andreyalekseev/Documents_local/Yandex.Disk.localized/Practicum/6. Learning with teacher quality of model/Project/market_time.csv')\n",
    "except:\n",
    "    market_time = pd.read_csv('/datasets/market_time.csv')\n",
    "try:\n",
    "    money = pd.read_csv(\n",
    "        '/Users/andreyalekseev/Documents_local/Yandex.Disk.localized/Practicum/6. Learning with teacher quality of model/Project/money.csv', \n",
    "        sep=';', decimal=',')\n",
    "except:\n",
    "    money = pd.read_csv('/datasets/money.csv', sep=';', decimal=',')"
   ]
  },
  {
   "cell_type": "markdown",
   "id": "82ab074f-47db-438e-b329-2043e82287e5",
   "metadata": {},
   "source": [
    "Проверим что загрузка прошла успешно и данные правильно читаются"
   ]
  },
  {
   "cell_type": "code",
   "execution_count": null,
   "id": "c6b94a62-6e16-414d-89cb-8431c8a74f4b",
   "metadata": {},
   "outputs": [],
   "source": [
    "market_file.sample(5)"
   ]
  },
  {
   "cell_type": "code",
   "execution_count": null,
   "id": "938f8e32-b914-43b2-9035-464f3e9a254d",
   "metadata": {},
   "outputs": [],
   "source": [
    "market_money.sample(5)"
   ]
  },
  {
   "cell_type": "code",
   "execution_count": null,
   "id": "3ba45d81-81d5-436c-bb7f-0abbff9094f1",
   "metadata": {},
   "outputs": [],
   "source": [
    "market_time.sample(5)"
   ]
  },
  {
   "cell_type": "code",
   "execution_count": null,
   "id": "4cfa8381-4ce5-468a-b3e4-21bffd1037a6",
   "metadata": {},
   "outputs": [],
   "source": [
    "money.sample(5)"
   ]
  },
  {
   "cell_type": "markdown",
   "id": "d8687012-25f7-4fd8-811a-2a2bae0289b1",
   "metadata": {},
   "source": [
    "Все хорошо, идем дальше."
   ]
  },
  {
   "cell_type": "markdown",
   "id": "baa773cc-5d59-4fea-9bbb-3a341955b4dc",
   "metadata": {},
   "source": [
    "## [Предобработка данных](#plan) <a id='2'></a>"
   ]
  },
  {
   "cell_type": "code",
   "execution_count": null,
   "id": "732a1131-822f-4e45-8237-894c096dd414",
   "metadata": {},
   "outputs": [],
   "source": [
    "preprocessing_data(market_file)"
   ]
  },
  {
   "cell_type": "code",
   "execution_count": null,
   "id": "db65974b-8abb-4da6-af9a-d87c59a0597b",
   "metadata": {},
   "outputs": [],
   "source": [
    "preprocessing_data(market_money)"
   ]
  },
  {
   "cell_type": "code",
   "execution_count": null,
   "id": "25a18b38-9d4c-4d7c-bc2f-5f41b72b1863",
   "metadata": {},
   "outputs": [],
   "source": [
    "preprocessing_data(market_time)"
   ]
  },
  {
   "cell_type": "code",
   "execution_count": null,
   "id": "6361ca98-337e-4323-a5f5-afd83483d129",
   "metadata": {},
   "outputs": [],
   "source": [
    "preprocessing_data(money)"
   ]
  },
  {
   "cell_type": "markdown",
   "id": "644b2132-71e4-458d-9d14-86c2c8ba99c2",
   "metadata": {},
   "source": [
    "В данных пропусков нет. \n",
    "\n",
    "Есть неявный дубликат в `market_file` в колонке `Тип сервиса`\n",
    "\n",
    "В `market_file` большинство названий признаков написано с использованием \"_\" вместо пробела. Сделаем общий стиль для всех названий признаков"
   ]
  },
  {
   "cell_type": "code",
   "execution_count": null,
   "id": "8151b1c6-5015-4763-8058-d2d182adeb3b",
   "metadata": {},
   "outputs": [],
   "source": [
    "market_file['Тип сервиса'] = market_file['Тип сервиса'].apply(lambda x: 'стандарт' if x == 'стандартт' else 'премиум' )"
   ]
  },
  {
   "cell_type": "code",
   "execution_count": null,
   "id": "4e74f6aa-191e-4f2b-9a9f-da14c09b9eaf",
   "metadata": {},
   "outputs": [],
   "source": [
    "market_time['Период'] = market_time['Период'].apply(\n",
    "    lambda x: 'предыдущий_месяц' if x == 'предыдцщий_месяц' else 'текущий_месяц'\n",
    ")"
   ]
  },
  {
   "cell_type": "code",
   "execution_count": null,
   "id": "0d9bb8bc-6150-40ce-8fc1-9240e853db5e",
   "metadata": {},
   "outputs": [],
   "source": [
    "for i in range(len(market_money)):\n",
    "    if market_money.loc[i, 'Период'] == 'препредыдущий_месяц':\n",
    "        market_money.loc[i, 'Период'] = 'предпредыдущий_месяц'\n",
    "    else:\n",
    "        continue"
   ]
  },
  {
   "cell_type": "code",
   "execution_count": null,
   "id": "9e075743-1101-48f6-8cf6-ba9c434f5d07",
   "metadata": {},
   "outputs": [],
   "source": [
    "market_file = market_file.rename(columns={\n",
    "    'Покупательская активность': 'Покупательская_активность', \n",
    "    'Тип сервиса': 'Тип_сервиса', \n",
    "    'Разрешить сообщать': 'Разрешить_сообщать'\n",
    "    }\n",
    ")"
   ]
  },
  {
   "cell_type": "markdown",
   "id": "c528338d-d647-49b0-b489-afa4a16ee073",
   "metadata": {},
   "source": [
    "Сделаем колонку с id индексами"
   ]
  },
  {
   "cell_type": "code",
   "execution_count": null,
   "id": "008d3273-612b-4cd1-990c-d8e7014d0351",
   "metadata": {},
   "outputs": [],
   "source": [
    "market_file = market_file.set_index('id')"
   ]
  },
  {
   "cell_type": "code",
   "execution_count": null,
   "id": "e4206abd-030b-429c-aeb0-b279b84f95f7",
   "metadata": {},
   "outputs": [],
   "source": [
    "market_money = market_money.set_index('id')"
   ]
  },
  {
   "cell_type": "code",
   "execution_count": null,
   "id": "1b8ac022-5f73-4bcb-b45d-e98a720f9b4d",
   "metadata": {},
   "outputs": [],
   "source": [
    "market_time = market_time.set_index('id')"
   ]
  },
  {
   "cell_type": "code",
   "execution_count": null,
   "id": "9beff619-e940-4528-88da-88c35f48a971",
   "metadata": {},
   "outputs": [],
   "source": [
    "money = money.set_index('id')"
   ]
  },
  {
   "cell_type": "markdown",
   "id": "49e71210-6613-4950-b9ae-714988430d05",
   "metadata": {},
   "source": [
    "## [Исследовательский анализ данных](#plan) <a id='3'></a>"
   ]
  },
  {
   "cell_type": "code",
   "execution_count": null,
   "id": "df5f049e-e837-46b9-9e60-dcd34a3d17b0",
   "metadata": {},
   "outputs": [],
   "source": [
    "market_file.describe()"
   ]
  },
  {
   "cell_type": "code",
   "execution_count": null,
   "id": "9cc789fc-1f03-4224-ba91-0ade229fd970",
   "metadata": {},
   "outputs": [],
   "source": [
    "research_diag(market_file, 'market_file')"
   ]
  },
  {
   "cell_type": "markdown",
   "id": "e1bad6fa-5c12-4ab4-8851-1d1909406c2d",
   "metadata": {},
   "source": [
    "Среднемесячное значение маркетинговых коммуникаций компании за последние 6 месяцев. Большая часть клиентов имела от 3 до 6 контактов с маркетинговой стратегией компании в месяц. При этом за последний месяц картина примерно та же, но от 3 до 5 контактов. Ниже выведем таблицу с активностью меньше 1 за последние 6 месяцев. \n",
    "\n",
    "Количество дней с момента регистрации. Минимальное значение 110 дней. Это значит, что уже 110 дней не было новых регистраций? Медиана на уровне 600 дней, а ящик в значениях от 400 до 800. Это значит, что больше всего регистраций было в этом промежутке. Если про эту компанию и правда все знают как заявляет компания, то наверное беспокоится не о чем, в противном случае нужно привлекать новых клиентов.\n",
    "\n",
    "Среднемесячная доля покупок по акции от общего числа покупок за последние 6 месяцев. Тут видно разделение на два класса. Клиенты которые \"охотятся\" за акциями и основные покупатели, у которых доля акционных покупок составляет 0.1 - 0.4 от всех покупок.\n",
    "\n",
    "Сколько в среднем категорий покупатель просмотрел за визит в течение последнего месяца. Разброс от 1 до 6 категорий. Чаще всего клиенты смотрят по 3 категории за визит.\n",
    "\n",
    "Общее число неоплаченных товаров в корзине за последние 3 месяца. Больше всего клиентов у которых 1-3 неоплаченых товара в корзине за последние 3 месяца. Это не много и скорее всего эти клиенты ждут какого нибудь хорошего предложения. Возможно они не стали покупать их потому что они не вошли в бюджет или стали дороже и тд.\n",
    "\n",
    "Число сбоев, которые коснулись покупателя во время посещения сайта. Это клиенты которые столкнулись с негативом и скорее всего не смогли оформить свой заказ. Надо исправиться и вернуть интерес клиентов к маркету.\n",
    "\n",
    "Среднее количество страниц, которые просмотрел покупатель за один визит на сайт за последние 3 месяца. Среднее значение 8. Это хорошо, виден явный интерес и желание найти что то. Осталось подсказать клиенту что именно.\n",
    "\n",
    "Покупательская активность в 62% осталась на прежнем уровне. Но 38% с другой стороны - это много.\n",
    "\n",
    "Тип сервиса. 99% клиентов на уровне премиум. Возможно стоит ввести еще какой нибудь тип сервиса. У клиентов как будто отсутствует выбор.\n",
    "\n",
    "74% дали согласие о том, можно ли присылать покупателю дополнительные предложения о товаре. С остальными надо коммуницировать по другому.\n",
    "\n",
    "Самая популярная категория - это товары для детей, далее Домашний текстиль, далее Косметика и аксессуары, Техника для красоты и здоровья, Мелкая бытовая техника и электроника, Кухонная посуда."
   ]
  },
  {
   "cell_type": "code",
   "execution_count": null,
   "id": "d4e2582b-70e1-4164-be7c-2e75b9e7b542",
   "metadata": {},
   "outputs": [],
   "source": [
    "market_file.query('Маркет_актив_6_мес < 1')"
   ]
  },
  {
   "cell_type": "code",
   "execution_count": null,
   "id": "8ea72258-fed0-49cf-a9ab-2442b36c489a",
   "metadata": {},
   "outputs": [],
   "source": [
    "market_money.describe()"
   ]
  },
  {
   "cell_type": "code",
   "execution_count": null,
   "id": "b20edb84-40f1-4acd-9451-c476fe070c32",
   "metadata": {},
   "outputs": [],
   "source": [
    "research_diag(market_money, 'market_money')"
   ]
  },
  {
   "cell_type": "code",
   "execution_count": null,
   "id": "da1cc258-1cb0-4cda-afa2-5ca3181273ca",
   "metadata": {},
   "outputs": [],
   "source": [
    "market_money.query('Выручка > 20000')"
   ]
  },
  {
   "cell_type": "markdown",
   "id": "6c4dbabd-bc2b-446a-9274-96ede56d8ced",
   "metadata": {},
   "source": [
    "Данные о выручке с покупателей за последние три месяца, включая текущий. Медиана на уровне 4957. Есть 1 выброс с выручкой 106862. Этот клиент в этом месяце купил что то очень дорогое в сравнении с остальными товарами на сайте."
   ]
  },
  {
   "cell_type": "code",
   "execution_count": null,
   "id": "8c962e24-ba2f-472f-a9f3-577f05682305",
   "metadata": {},
   "outputs": [],
   "source": [
    "market_time.describe()"
   ]
  },
  {
   "cell_type": "code",
   "execution_count": null,
   "id": "7eed9850-30f0-4a10-abdf-92be06697a70",
   "metadata": {},
   "outputs": [],
   "source": [
    "research_diag(market_time, 'market_time')"
   ]
  },
  {
   "cell_type": "markdown",
   "id": "42a84fac-8d3f-4834-9799-4d49ec26e469",
   "metadata": {},
   "source": [
    "Время в минутах проведенное на сайте. Данные за этот и предыдущий месяц разделены ровно пополам. Средний клиент проводит в среднем 13 минут на сайте."
   ]
  },
  {
   "cell_type": "code",
   "execution_count": null,
   "id": "34c0d091-a3e5-4143-830e-449869639c8a",
   "metadata": {},
   "outputs": [],
   "source": [
    "money.describe()"
   ]
  },
  {
   "cell_type": "code",
   "execution_count": null,
   "id": "9d32863a-11c0-49f9-96be-6d98a7d5f0d6",
   "metadata": {},
   "outputs": [],
   "source": [
    "research_diag(money, 'money')"
   ]
  },
  {
   "cell_type": "markdown",
   "id": "c1504192-0448-43c7-9a82-c9cb9e60844e",
   "metadata": {},
   "source": [
    "Среднемесячная активность покупателей за последние три месяца имеет равномерное распределение и медиану на уровне ~ 4 единиц."
   ]
  },
  {
   "cell_type": "markdown",
   "id": "1e2223f7-1606-4d3d-bf05-16738d1ac6e8",
   "metadata": {},
   "source": [
    "Клиенты с покупательской активностью за последние три месяца."
   ]
  },
  {
   "cell_type": "code",
   "execution_count": null,
   "id": "244a3df6-2a8b-446f-90cf-75f9935ba21c",
   "metadata": {},
   "outputs": [],
   "source": [
    "money.query('Прибыль != 0').count()"
   ]
  },
  {
   "cell_type": "markdown",
   "id": "6a261f10-3005-4079-bdeb-760aaab232e6",
   "metadata": {},
   "source": [
    "В таблице с прибылью от клиентов за последние 3 месяца всего 1300 значений и все они больше нуля. Значит можно по этим id посмотреть покупателей которые были активны последние три месяца в главной таблице."
   ]
  },
  {
   "cell_type": "code",
   "execution_count": null,
   "id": "57c85297-5d51-4dbc-abd1-ba98f490cf81",
   "metadata": {},
   "outputs": [],
   "source": [
    "market_file.loc[money.index,:]"
   ]
  },
  {
   "cell_type": "markdown",
   "id": "e5a4d215-6de0-4b1a-b244-ea31e1661d79",
   "metadata": {},
   "source": [
    "Можно посмотреть клиентов которые были активны в прошлом месяце"
   ]
  },
  {
   "cell_type": "code",
   "execution_count": null,
   "id": "6cd228f7-78b9-4f54-ad7b-0f0d46349d86",
   "metadata": {},
   "outputs": [],
   "source": [
    "_ = market_money.query('Период == \"предыдущий_месяц\" & Выручка > 0').index\n",
    "market_file.loc[_,:]"
   ]
  },
  {
   "cell_type": "markdown",
   "id": "50aad0ad-e5d7-482f-9141-ada742697f0e",
   "metadata": {},
   "source": [
    "Можно так же посмотреть клиентов которые были активны в этом месяце"
   ]
  },
  {
   "cell_type": "markdown",
   "id": "98bbaf1d-1e38-4afe-8701-f1dc535b3553",
   "metadata": {},
   "source": [
    "1297 клиента. На 3 меньше, чем за квартал."
   ]
  },
  {
   "cell_type": "code",
   "execution_count": null,
   "id": "3e35f10d-354c-4326-9535-4947acbee8d1",
   "metadata": {},
   "outputs": [],
   "source": [
    "_ = market_money.query('Период == \"текущий_месяц\" & Выручка > 0').index\n",
    "market_file.loc[_,:]"
   ]
  },
  {
   "cell_type": "markdown",
   "id": "b34a20a7-05bf-43a2-ae84-d57881fd950b",
   "metadata": {},
   "source": [
    "В этом месяце все те же 1300 клиентов"
   ]
  },
  {
   "cell_type": "markdown",
   "id": "9ce6860b-e073-4de9-a85d-d86265629d30",
   "metadata": {},
   "source": [
    "#### Вывод:"
   ]
  },
  {
   "cell_type": "markdown",
   "id": "70b3d30b-5308-41bb-824a-fb89eb4a13ca",
   "metadata": {},
   "source": [
    "Выяснили, что все клиенты в данных \"живые\", то есть имели покупательскую активность за последние 3 месяца. У 38% клиентов покупательска активность снизилась. Надо повышать их мотивацию к покупкам. Большая часть имеет соглашение на раасылку доп информации и все так или иначе взаимодействуют с маркетингом компании. Клиенты давольно много проводят времени на сайте в среднем 13 минут, просматривают в среднем 8 страниц и посещают в среднем 3 категории. Эти показатели нужно либо увеличивать, если это возможно, либо работать с тими данными - это тоже не мало и за 13 минут можно много показать клиенту на 8 страницах.\n",
    "Среднее количество не купленых товаров в корзине - 3 штуки. Это всего один шаг до оформления покупки, надо предложить специальные условия на эти товары и клиенты их купят. Тип сервиса премиум у 99% клиентов. Возможно нужно ввести дополнительный тип сервиса или какие то акции эксклюзивно для Премиум пользователей. Много клиентов столкнулись с ошибкой сервиса и теперь у них могло остаться негативное впечатление о сервисе. Так же они могли не совершить покупку из за ошибки. Надо исправляться. Так же есть доля клиентов которые совершают только покупки товаров по акции. Надо предлогать таким клиентам больше акционных товаров. \n"
   ]
  },
  {
   "cell_type": "markdown",
   "id": "fa26aa00-70de-402c-9a75-bcbc7447fbac",
   "metadata": {},
   "source": [
    "## [Объединение таблиц](#plan) <a id='4'></a>"
   ]
  },
  {
   "cell_type": "markdown",
   "id": "6fcdd54a-70bc-432a-ac7e-2bbc7d0a187a",
   "metadata": {},
   "source": [
    "Объеденим таблицы. Так как данные о выручке и времени на сайте находятся в одном столбце для всех периодов. В итоговой таблице сделаем отдельный столбец для каждого периода."
   ]
  },
  {
   "cell_type": "code",
   "execution_count": null,
   "id": "9930f444-e924-40b1-8f99-353dae62354b",
   "metadata": {},
   "outputs": [],
   "source": [
    "market = df_merge(market_file, market_time)"
   ]
  },
  {
   "cell_type": "code",
   "execution_count": null,
   "id": "7aa3b1ae-21f9-483b-b5e2-4d703c040a98",
   "metadata": {},
   "outputs": [],
   "source": [
    "market = market.drop(['Период_x', 'Период_y'], axis=1)"
   ]
  },
  {
   "cell_type": "code",
   "execution_count": null,
   "id": "d4ef97dc-5699-4ae6-a0e7-e294417a82a7",
   "metadata": {},
   "outputs": [],
   "source": [
    "market = df_merge(market, market_money)"
   ]
  },
  {
   "cell_type": "code",
   "execution_count": null,
   "id": "de260db6-f56f-4ed1-98fb-227df6b782bd",
   "metadata": {},
   "outputs": [],
   "source": [
    "market = market.drop(['Период_x', 'Период_y', 'Период'], axis=1)"
   ]
  },
  {
   "cell_type": "code",
   "execution_count": null,
   "id": "31211467-8ba7-4759-a09a-15036ed24b08",
   "metadata": {
    "scrolled": true
   },
   "outputs": [],
   "source": [
    "market.sample()"
   ]
  },
  {
   "cell_type": "code",
   "execution_count": null,
   "id": "45c6c381-7d5e-4aae-adde-26b7dc01c81a",
   "metadata": {},
   "outputs": [],
   "source": [
    "market.select_dtypes('number').columns"
   ]
  },
  {
   "cell_type": "code",
   "execution_count": null,
   "id": "9b0ca76f-39a8-4f48-b901-b3ab7f8762ef",
   "metadata": {},
   "outputs": [],
   "source": [
    "len(market.select_dtypes('number').columns)"
   ]
  },
  {
   "cell_type": "code",
   "execution_count": null,
   "id": "7b3042b2-b7e2-4e86-9b16-6288b5e48ad7",
   "metadata": {},
   "outputs": [],
   "source": [
    "# fig, ax = plt.subplots(nrows= 10, ncols= 1, figsize=(11, (len(market.select_dtypes('number').columns) *9))\n",
    "\n",
    "# ax_dict = []\n",
    "# for a in range(len(market.select_dtypes('number').columns)):\n",
    "#     ax_dict.apped(ax[a])\n",
    "\n",
    "# columns = market.select_dtypes('number').columns\n",
    "\n",
    "# for a, c in zip(ax_dict, columns):\n",
    "#     sns.scatterplot(market, x='milk_yield', y=c, hue='breed', style='age', s=50, ax=a)\n",
    "#     a.set_title(f'Взаимосвязь между признаками \"Удой\" и {t}', size=13)\n",
    "#     a.set_ylabel(t)\n",
    "#     a.set_xlabel('\"Удой\"')\n",
    "#     handles, labels = a.get_legend_handles_labels()\n",
    "#     a.legend(handles, ['Порода', 'Вис Бик Айдиал', 'РефлешнСоверинг', 'Возраст', 'Больше 2 лет', 'Меньше 2 лет'])"
   ]
  },
  {
   "cell_type": "markdown",
   "id": "861d79d7-ab69-4557-8e45-ed57067546df",
   "metadata": {},
   "source": [
    "## [Корреляционный анализ](#plan) <a id='5'></a>"
   ]
  },
  {
   "cell_type": "code",
   "execution_count": null,
   "id": "bb46d700-97c9-4101-b89c-b6174aaacd12",
   "metadata": {},
   "outputs": [],
   "source": [
    "matrix_corr(market.phik_matrix())"
   ]
  },
  {
   "cell_type": "markdown",
   "id": "3c6f58a1-6037-4d57-9375-272c75df7a2d",
   "metadata": {},
   "source": [
    "#### Вывод:"
   ]
  },
  {
   "cell_type": "markdown",
   "id": "9d34ff0e-b81b-41b4-81b5-3fc5c71a407e",
   "metadata": {},
   "source": [
    "Мультиколлинеарности здесть нет.\n",
    "Самая высокая корреляция у пары признаков \"Выручка_предпредыдущий_месяц\", \"Акционные_покупки\" и у пары \"Покупательская_активность\", \"Страниц_за_визит\"- 0.75\n",
    "Стоит обратить внимание на на признаки с отсутствующей корреляцией. Модели будут все равно пытаться искать ваимосвязи даже там. ЧТо бы не путать модель стоит их все же удалить."
   ]
  },
  {
   "cell_type": "code",
   "execution_count": null,
   "id": "87c35ef1-de9a-4e6e-a70d-c2f5fb8939ad",
   "metadata": {},
   "outputs": [],
   "source": [
    "market = market.drop(['Тип_сервиса', 'Маркет_актив_тек_мес', 'Выручка_текущий_месяц'], axis=1)"
   ]
  },
  {
   "cell_type": "markdown",
   "id": "703b7d6b-eed5-4125-b0b0-d31a5c793065",
   "metadata": {},
   "source": [
    "## [Использование пайплайнов](#plan) <a id='6'></a>"
   ]
  },
  {
   "cell_type": "markdown",
   "id": "d1a38d86-0c36-4481-b684-05a3d24febcd",
   "metadata": {},
   "source": [
    "Для целевого признака установим категорию \"Снизилась\" как положительный класс 1"
   ]
  },
  {
   "cell_type": "code",
   "execution_count": null,
   "id": "ea1255dd-c363-4fd3-bb55-8bace3506308",
   "metadata": {},
   "outputs": [],
   "source": [
    "market['Покупательская_активность'] = (\n",
    "    market['Покупательская_активность'].apply(lambda y: 1 if y == 'Снизилась' else 0)\n",
    ")"
   ]
  },
  {
   "cell_type": "markdown",
   "id": "ed88d77a-a7db-438f-a620-cbaaebe2df60",
   "metadata": {},
   "source": [
    "Разделим датасет на тренировочную и тестовую выборки"
   ]
  },
  {
   "cell_type": "code",
   "execution_count": null,
   "id": "276ca1ea-9c05-4a05-b6b0-d452008c888b",
   "metadata": {},
   "outputs": [],
   "source": [
    "X_train, X_test, y_train, y_test = train_test_split(\n",
    "    market.drop('Покупательская_активность', axis=1),\n",
    "    market['Покупательская_активность'],\n",
    "    test_size = TEST_SIZE, \n",
    "    random_state = RANDOM_STATE,\n",
    "    stratify=market['Покупательская_активность']\n",
    ")"
   ]
  },
  {
   "cell_type": "markdown",
   "id": "7bc908ea-ead0-4eaf-904f-048e354276d5",
   "metadata": {},
   "source": [
    "Создадим препроцессор пайплайна"
   ]
  },
  {
   "cell_type": "code",
   "execution_count": null,
   "id": "a3ad04d9-e284-4dc3-9693-784288d611b5",
   "metadata": {},
   "outputs": [],
   "source": [
    "\n",
    "ohe_columns = ['Разрешить_сообщать']\n",
    "ord_columns = ['Популярная_категория']\n",
    "num_columns = ['Выручка_предыдущий_месяц', 'Выручка_предпредыдущий_месяц', 'Маркет_актив_6_мес',\n",
    "              'минут_предыдущий_месяц', 'минут_текущий_месяц', 'Страниц_за_визит', 'Ошибка_сервиса', \n",
    "               'Неоплаченные_продукты_штук_квартал', 'Средний_просмотр_категорий_за_визит', \n",
    "               'Акционные_покупки', 'Длительность']\n",
    "\n",
    "\n",
    "data_preprocessor = ColumnTransformer(\n",
    "    [('ohe', OneHotEncoder(drop='first', handle_unknown='ignore', sparse_output=False), ohe_columns),\n",
    "     ('ord', OrdinalEncoder(\n",
    "                categories=[\n",
    "                    ['Товары для детей', 'Домашний текстиль', 'Косметика и аксесуары',\n",
    "                    'Техника для красоты и здоровья', 'Кухонная посуда',\n",
    "                    'Мелкая бытовая техника и электроника']]), \n",
    "      ord_columns\n",
    "     ),\n",
    "     ('num', MinMaxScaler(), num_columns)\n",
    "    ], \n",
    "    remainder='passthrough'\n",
    ")\n",
    "data_preprocessor"
   ]
  },
  {
   "cell_type": "markdown",
   "id": "495f3aa6-2720-422d-9785-7935626c025b",
   "metadata": {},
   "source": [
    "Выберем две метрики для работы моделей - это Recall и Roc-auc. Как основную выберем Recall. Так как эта метрика предсказывает ошибку второго рода: измеряет, насколько часто модель допускает ложноотрицательные ответы FN. "
   ]
  },
  {
   "cell_type": "code",
   "execution_count": null,
   "id": "68fc3a28-4533-45f7-9af2-87b408909616",
   "metadata": {},
   "outputs": [],
   "source": [
    "scoring = {\n",
    "    'recall_score': 'recall',\n",
    "    'roc_auc_score': 'roc_auc'\n",
    "} "
   ]
  },
  {
   "cell_type": "markdown",
   "id": "8b51c5a4-ba77-4c0b-9fb6-798d91d216e1",
   "metadata": {},
   "source": [
    "<div class=\"alert alert-info\"  style=\"border-radius: 15px; box-shadow: 4px 4px 4px; border: 1px solid \">\n",
    "    \n",
    "<font size=\"5\"><b>Комментарий студента: </b></font>\n",
    "\n",
    "\n",
    "Привет! Ниже пытался использовать OptunaSearchCV но не получается правильно создать словарь с параметрами. Выдает ошибку. Если знаешь как это правильно сделать, то подскажи пожалуйста. Использовать этот инструмент и байэсовскую оптимизацию, что бы не мучать изрядно свое далеко не мощное железо было было гораздо удобнее и практичнее. Заранее Спасибо!"
   ]
  },
  {
   "cell_type": "code",
   "execution_count": null,
   "id": "7a3a8708-989b-461b-a1ba-43ff964de0b7",
   "metadata": {},
   "outputs": [],
   "source": [
    "# from optuna import distributions\n",
    "# from optuna.integration import OptunaSearchCV\n",
    "\n",
    "# parameters = {\n",
    "#     # словарь для модели DecisionTreeClassifier()\n",
    "    \n",
    "#         1:{\n",
    "#             'models': [DecisionTreeClassifier(random_state=RANDOM_STATE)], \n",
    "#             'models__max_depth': distributions.IntDistribution(2, 5), \n",
    "#             'models__max_features': distributions.IntDistribution(2, 10), \n",
    "#             'preprocessor__num': [StandardScaler(), MinMaxScaler(), 'passthrough']\n",
    "#         }\n",
    "#     ,\n",
    "    \n",
    "#     # словарь для модели KNeighborsClassifier() \n",
    "    \n",
    "#         2:{\n",
    "#             'models': [KNeighborsClassifier()], \n",
    "#             'models__n_neighbors': distributions.IntDistribution(2, 5), \n",
    "#             'preprocessor__num': [StandardScaler(), MinMaxScaler(), 'passthrough']\n",
    "#           }   \n",
    "#     ,\n",
    "\n",
    "#     # словарь для модели LogisticRegression()\n",
    "    \n",
    "#         3:{\n",
    "#             'models': [LogisticRegression(\n",
    "#             random_state=RANDOM_STATE, \n",
    "#             solver='liblinear', \n",
    "#             penalty='l1'\n",
    "#             )], \n",
    "#             'models__C': distributions.IntDistribution(1, 5), \n",
    "#             'preprocessor__num': [StandardScaler(), MinMaxScaler(), 'passthrough']\n",
    "#           }  \n",
    "    \n",
    "# }\n"
   ]
  },
  {
   "cell_type": "code",
   "execution_count": null,
   "id": "4a5aedf0-eb3c-4e30-ad3c-14d91d965669",
   "metadata": {},
   "outputs": [],
   "source": [
    "# oscv = OptunaSearchCV(\n",
    "#     pipe_final,\n",
    "#     parameters,\n",
    "#     cv=5,\n",
    "#     scoring='roc_auc',\n",
    "#     random_state=RANDOM_STATE,\n",
    "#     n_trials=10,\n",
    "#     n_jobs=-1\n",
    "# )\n",
    "# oscv.fit(X_train, y_train)"
   ]
  },
  {
   "cell_type": "markdown",
   "id": "e75b1da5-8888-40ba-9540-77f0acbd3239",
   "metadata": {},
   "source": [
    "Для предсказания будем использовать четыре модели. \n",
    "\n",
    " `KNeighborsClassifier()`, `DecisionTreeClassifier()`, `LogisticRegression()` и  `SVC()` \n",
    "\n",
    " Сначала обучим каждую модель в отдельном пайплайне с разными параметрами. Потом соберем один пайплайн и посмотрим какой лучший вариант предложит он."
   ]
  },
  {
   "cell_type": "markdown",
   "id": "a734e74f-e754-495e-b2dd-8ed118f718ac",
   "metadata": {},
   "source": [
    "Начнем с модели Дерева решений"
   ]
  },
  {
   "cell_type": "code",
   "execution_count": null,
   "id": "06f144fc-9d5f-4003-9084-eb356148c8e5",
   "metadata": {},
   "outputs": [],
   "source": [
    "pipe_final_decision_tree = Pipeline([\n",
    "    ('preprocessor', data_preprocessor),\n",
    "    ('models', DecisionTreeClassifier(random_state=RANDOM_STATE))\n",
    "])\n",
    "\n",
    "param_grid = {\n",
    "    'models__max_depth': range(2, 15),\n",
    "    'models__max_features': range(2, 10),\n",
    "    'models__min_samples_split': range(2,5),\n",
    "    'preprocessor__num': [StandardScaler(), MinMaxScaler(), 'passthrough']\n",
    "}\n",
    "\n",
    "\n",
    "\n",
    "grid_search_decision_tree = GridSearchCV(\n",
    "    pipe_final_decision_tree, \n",
    "    param_grid, \n",
    "    cv=5,\n",
    "    scoring=scoring,\n",
    "    refit='recall_score',\n",
    "    n_jobs=-1,\n",
    ")\n",
    "\n",
    "grid_search_decision_tree.fit(X_train, y_train)\n",
    "print('Метрика лучшей модели на тренировочной выборке:', grid_search_decision_tree.best_score_)\n",
    "print('Лучшие параметры модели', grid_search_decision_tree.best_params_)"
   ]
  },
  {
   "cell_type": "code",
   "execution_count": null,
   "id": "60791eb5-978a-4b57-ba74-0cd62c0d2f4b",
   "metadata": {},
   "outputs": [],
   "source": [
    "y_test_pred_decision_tree = grid_search_decision_tree.predict(X_test)\n",
    "print(f'Метрика Recall на тестовой выборке: {recall_score(y_test, y_test_pred_decision_tree)}')"
   ]
  },
  {
   "cell_type": "markdown",
   "id": "e2d9b6a1-38bf-42ac-9c62-dadf3635c749",
   "metadata": {},
   "source": [
    "Метрика у лучших параметров на тренировочных данных: 0.8 Не плохой результат. \n",
    "\n",
    "При этом метрика на тестовых данных выше! 0.82. Посмотрим на другие модели."
   ]
  },
  {
   "cell_type": "code",
   "execution_count": null,
   "id": "4a276439-e226-42de-a165-73c5ef9ffd7d",
   "metadata": {},
   "outputs": [],
   "source": [
    "pipe_final_knn = Pipeline([\n",
    "    ('preprocessor', data_preprocessor),\n",
    "    ('models', KNeighborsClassifier())\n",
    "])\n",
    "\n",
    "param_grid = {\n",
    "    'models__n_neighbors': range(2, 10),\n",
    "    'models__metric': ['minkowski', 'euclidean', 'cityblock'],\n",
    "    'preprocessor__num': [StandardScaler(), MinMaxScaler(), 'passthrough']\n",
    "}\n",
    "\n",
    "\n",
    "\n",
    "grid_search_knn = GridSearchCV(\n",
    "    pipe_final_knn, \n",
    "    param_grid, \n",
    "    cv=5,\n",
    "    scoring=scoring,\n",
    "    refit='recall_score',\n",
    "    n_jobs=-1\n",
    ")\n",
    "\n",
    "grid_search_knn.fit(X_train, y_train)\n",
    "print ('Метрика лучшей модели на тренировочной выборке:', grid_search_knn.best_score_)\n",
    "print('Лучшие параметры модели', grid_search_knn.best_params_)"
   ]
  },
  {
   "cell_type": "code",
   "execution_count": null,
   "id": "496e8c21-0f52-45d8-80be-dcb6f6fd67e3",
   "metadata": {},
   "outputs": [],
   "source": [
    "y_test_pred_knn = grid_search_knn.predict(X_test)\n",
    "print(f'Метрика Recall на тестовой выборке: {recall_score(y_test, y_test_pred_knn)}')"
   ]
  },
  {
   "cell_type": "markdown",
   "id": "2cfb6ee7-285a-4625-8ebd-e5b03a55f257",
   "metadata": {},
   "source": [
    "Результат на тренировочных данных 0.76. Посмотрим на метрику на тестовых данных.\n",
    "\n",
    "На тестовых данных метрика еще хуже. 0.74"
   ]
  },
  {
   "cell_type": "code",
   "execution_count": null,
   "id": "767e16a2-46f5-4e7f-a662-a8f7c94bc30d",
   "metadata": {},
   "outputs": [],
   "source": [
    "pipe_final_log_regression = Pipeline([\n",
    "    ('preprocessor', data_preprocessor),\n",
    "    ('models', LogisticRegression(random_state=RANDOM_STATE, \n",
    "            solver='liblinear', \n",
    "            penalty='l1'\n",
    "        ))\n",
    "])\n",
    "\n",
    "param_grid = {\n",
    "    'models__C': range(1, 10),\n",
    "    'preprocessor__num': [StandardScaler(), MinMaxScaler(), 'passthrough']\n",
    "}\n",
    "\n",
    "\n",
    "\n",
    "grid_search_log_regression = GridSearchCV(\n",
    "    pipe_final_log_regression, \n",
    "    param_grid, \n",
    "    cv=5,\n",
    "    scoring=scoring,\n",
    "    refit='recall_score',\n",
    "    n_jobs=-1\n",
    ")\n",
    "\n",
    "grid_search_log_regression.fit(X_train, y_train)\n",
    "print ('Метрика лучшей модели на тренировочной выборке:', grid_search_log_regression.best_score_)\n",
    "print('Лучшие параметры модели', grid_search_log_regression.best_params_)"
   ]
  },
  {
   "cell_type": "code",
   "execution_count": null,
   "id": "702e66cd-1f9c-428a-8100-bca885a9238f",
   "metadata": {},
   "outputs": [],
   "source": [
    "y_test_pred_log_regression = grid_search_log_regression.predict(X_test)\n",
    "print(f'Метрика Recall на тестовой выборке: {recall_score(y_test, y_test_pred_log_regression)}')"
   ]
  },
  {
   "cell_type": "markdown",
   "id": "a02dc5fa-a771-41cf-b974-71eb6cfdd441",
   "metadata": {},
   "source": [
    "У логистической регрессии оценка на тренировочных данных 0.77. \n",
    "\n",
    "На тестовых данных оценка стала выше - 0.79. Но она все еще не дотягивает до результатов модели Дерева решений."
   ]
  },
  {
   "cell_type": "code",
   "execution_count": null,
   "id": "dec14d55-449a-4c2a-8058-fcc2031aea80",
   "metadata": {},
   "outputs": [],
   "source": [
    "pipe_final_svc = Pipeline([\n",
    "    ('preprocessor', data_preprocessor),\n",
    "    ('models', SVC(random_state=RANDOM_STATE))\n",
    "])\n",
    "\n",
    "param_grid = {\n",
    "    'models__C': [0.1,1,10,100],\n",
    "    'models__gamma': [0.1,1,10,100],\n",
    "    'preprocessor__num': [StandardScaler(), MinMaxScaler(), 'passthrough']\n",
    "}\n",
    "\n",
    "\n",
    "\n",
    "grid_search_svc = GridSearchCV(\n",
    "    pipe_final_svc, \n",
    "    param_grid, \n",
    "    cv=5,\n",
    "    scoring=scoring,\n",
    "    refit='recall_score',\n",
    "    n_jobs=-1\n",
    ")\n",
    "\n",
    "grid_search_svc.fit(X_train, y_train)\n",
    "print ('Метрика лучшей модели на тренировочной выборке:', grid_search_svc.best_score_)\n",
    "print('Лучшие параметры модели', grid_search_svc.best_params_)"
   ]
  },
  {
   "cell_type": "code",
   "execution_count": null,
   "id": "e8505e56-8f77-4ae8-8fa6-a5851080a693",
   "metadata": {},
   "outputs": [],
   "source": [
    "y_test_pred_svc = grid_search_svc.predict(X_test)\n",
    "print(f'Метрика Recall на тестовой выборке: {recall_score(y_test, y_test_pred_svc)}')"
   ]
  },
  {
   "cell_type": "markdown",
   "id": "c88f7267-cb4f-46cc-b2f5-24e32e0ba2f7",
   "metadata": {},
   "source": [
    "Это уже результат намного лучше. 0.81 на тренировочных данных и 0.80 на тестовых. Но все еще меньше, чем у Дерева решений."
   ]
  },
  {
   "cell_type": "code",
   "execution_count": null,
   "id": "2ae4e8d0-aac2-426b-8e42-b801f38fbd31",
   "metadata": {},
   "outputs": [],
   "source": [
    "pipe_final_svc_lin = Pipeline([\n",
    "    ('preprocessor', data_preprocessor),\n",
    "    ('models', SVC(kernel='linear', random_state=RANDOM_STATE))\n",
    "])\n",
    "\n",
    "param_grid = {\n",
    "    'models__C': [0.1,1,10,100],\n",
    "    'models__gamma': [0.1,1,10,100],\n",
    "    'preprocessor__num': [StandardScaler(), MinMaxScaler(), 'passthrough']\n",
    "}\n",
    "\n",
    "\n",
    "\n",
    "grid_search_svc_lin = GridSearchCV(\n",
    "    pipe_final_svc_lin, \n",
    "    param_grid, \n",
    "    cv=5,\n",
    "    scoring=scoring,\n",
    "    refit='recall_score',\n",
    "    n_jobs=-1\n",
    ")\n",
    "\n",
    "grid_search_svc_lin.fit(X_train, y_train)\n",
    "print ('Метрика лучшей модели на тренировочной выборке:', grid_search_svc_lin.best_score_)\n",
    "print('Лучшие параметры модели', grid_search_svc_lin.best_params_)"
   ]
  },
  {
   "cell_type": "code",
   "execution_count": null,
   "id": "095d6a20-620f-4a59-a6a4-55f4c5b2eb6a",
   "metadata": {},
   "outputs": [],
   "source": [
    "y_test_pred_svc_lin = grid_search_svc_lin.predict(X_test)\n",
    "print(f'Метрика Recall на тестовой выборке: {recall_score(y_test, y_test_pred_svc_lin)}')"
   ]
  },
  {
   "cell_type": "markdown",
   "id": "acc5812e-a875-45f2-90ec-cf2c8b484d99",
   "metadata": {},
   "source": [
    "Метод опорных векторов с линейным ядром не отличился результатом."
   ]
  },
  {
   "cell_type": "code",
   "execution_count": null,
   "id": "e4cd02ea-646a-4127-b058-46dc2ec81ab4",
   "metadata": {},
   "outputs": [],
   "source": [
    "pipe_final_svc_sigmoid = Pipeline([\n",
    "    ('preprocessor', data_preprocessor),\n",
    "    ('models', SVC(kernel='sigmoid', random_state=RANDOM_STATE))\n",
    "])\n",
    "\n",
    "param_grid = {\n",
    "    'models__C': [0.1,1,10,100],\n",
    "    'models__gamma': [0.1,1,10,100],\n",
    "    'preprocessor__num': [StandardScaler(), MinMaxScaler(), 'passthrough']\n",
    "}\n",
    "\n",
    "\n",
    "\n",
    "grid_search_svc_sigmoid = GridSearchCV(\n",
    "    pipe_final_svc_sigmoid, \n",
    "    param_grid, \n",
    "    cv=5,\n",
    "    scoring=scoring,\n",
    "    refit='recall_score',\n",
    "    n_jobs=-1\n",
    ")\n",
    "\n",
    "grid_search_svc_sigmoid.fit(X_train, y_train)\n",
    "print ('Метрика лучшей модели на тренировочной выборке:', grid_search_svc_sigmoid.best_score_)\n",
    "print('Лучшие параметры модели', grid_search_svc_sigmoid.best_params_)"
   ]
  },
  {
   "cell_type": "code",
   "execution_count": null,
   "id": "d8ee09af-d3b8-4262-8b69-ed4bf093e130",
   "metadata": {},
   "outputs": [],
   "source": [
    "y_test_pred_svc_sigmoid = grid_search_svc_sigmoid.predict(X_test)\n",
    "print(f'Метрика Recall на тестовой выборке: {recall_score(y_test, y_test_pred_svc_sigmoid)}')"
   ]
  },
  {
   "cell_type": "markdown",
   "id": "2c853879-2cdf-47f3-91fc-d08579ab7e1e",
   "metadata": {},
   "source": [
    "Метод опорных вектором с сигмоидным ядром пока что хуже всех. Большое отставание."
   ]
  },
  {
   "cell_type": "code",
   "execution_count": null,
   "id": "c8667cf5-d429-4bc7-bd18-b7e81f70924b",
   "metadata": {},
   "outputs": [],
   "source": [
    "pipe_final_svc_poly = Pipeline([\n",
    "    ('preprocessor', data_preprocessor),\n",
    "    ('models', SVC(kernel='poly',random_state=RANDOM_STATE))\n",
    "])\n",
    "\n",
    "param_grid = {\n",
    "    'models__C': [0.1,1,10,100],\n",
    "    'models__degree': range(3, 10),\n",
    "    'preprocessor__num': [StandardScaler(), MinMaxScaler(), 'passthrough']\n",
    "}\n",
    "\n",
    "\n",
    "\n",
    "grid_search_svc_poly = GridSearchCV(\n",
    "    pipe_final_svc_poly, \n",
    "    param_grid, \n",
    "    cv=5,\n",
    "    scoring=scoring,\n",
    "    refit='recall_score',\n",
    "    n_jobs=-1\n",
    ")\n",
    "\n",
    "grid_search_svc_poly.fit(X_train, y_train)\n",
    "print ('Метрика лучшей модели на тренировочной выборке:', grid_search_svc_poly.best_score_)\n",
    "print('Лучшие параметры модели', grid_search_svc_poly.best_params_)"
   ]
  },
  {
   "cell_type": "code",
   "execution_count": null,
   "id": "b001f26c-fee2-4a4d-9d1e-cc15469ea7b7",
   "metadata": {},
   "outputs": [],
   "source": [
    "y_test_pred_svc_poly = grid_search_svc_poly.predict(X_test)\n",
    "print(f'Метрика Recall на тестовой выборке: {recall_score(y_test, y_test_pred_svc_poly)}')"
   ]
  },
  {
   "cell_type": "markdown",
   "id": "3e56b0b9-8635-4cca-bd82-dd87d8deff7b",
   "metadata": {},
   "source": [
    "У полиномиального ядра модели с методом опорных векторов на тренировочных данных самый высокий результат - 0.82. При этом на тестовых данных 0.8. Это хороший результат, но результат 0.82 у Дерева решений лучше.\n",
    "\n",
    "И так. Лучшаяя модель - Дерево решений. С результатом  0.8 на тренировочных данных и 0.82 на тестовых данных.\n",
    "\n",
    "С параметрами:\n",
    "\n",
    "`'models__max_depth': 14, 'models__max_features': 7, 'models__min_samples_split': 2, 'preprocessor__num': StandardScaler()`"
   ]
  },
  {
   "cell_type": "markdown",
   "id": "f0f68b16-1236-4daa-91fd-6e65b2668673",
   "metadata": {},
   "source": [
    "Посмотрим какая лучшая модель по версии RandomizerSearchCV."
   ]
  },
  {
   "cell_type": "code",
   "execution_count": null,
   "id": "ebd9c0de-235f-4759-b7ca-93089c993d78",
   "metadata": {},
   "outputs": [],
   "source": [
    "pipe_final = Pipeline([\n",
    "    ('preprocessor', data_preprocessor),\n",
    "    ('models', DecisionTreeClassifier(random_state=RANDOM_STATE))\n",
    "])\n",
    "pipe_final"
   ]
  },
  {
   "cell_type": "code",
   "execution_count": null,
   "id": "ebebd7d7-4437-43e4-8e39-c71f6d36af10",
   "metadata": {},
   "outputs": [],
   "source": [
    "param_grid = [\n",
    "    # словарь для модели DecisionTreeClassifier()\n",
    "    {\n",
    "        'models': [DecisionTreeClassifier(random_state=RANDOM_STATE)],\n",
    "        'models__max_depth': range(2, 15),\n",
    "        'models__max_features': range(2, 10),\n",
    "        'models__min_samples_split': range(2,5),\n",
    "        'preprocessor__num': [StandardScaler(), MinMaxScaler(), 'passthrough']  \n",
    "    },\n",
    "    \n",
    "    # словарь для модели KNeighborsClassifier() \n",
    "    {\n",
    "        'models': [KNeighborsClassifier()],\n",
    "        'models__n_neighbors': range(2, 10),\n",
    "        'models__metric': ['minkowski', 'euclidean', 'cityblock'],\n",
    "        'preprocessor__num': [StandardScaler(), MinMaxScaler(), 'passthrough']   \n",
    "    },\n",
    "\n",
    "    # словарь для модели LogisticRegression()\n",
    "    {\n",
    "        'models': [LogisticRegression(\n",
    "            random_state=RANDOM_STATE, \n",
    "            solver='liblinear', \n",
    "            penalty='l1'\n",
    "        )],\n",
    "        'models__C': range(1, 5),\n",
    "        'preprocessor__num': [StandardScaler(), MinMaxScaler(), 'passthrough']  \n",
    "    },\n",
    "\n",
    "    # словарь для модели SVC()\n",
    "    {\n",
    "        'models': [SVC(random_state=RANDOM_STATE)],\n",
    "        'models__C': [0.1,1,10,100],\n",
    "        'models__gamma': [0.1,1,10,100],\n",
    "        'preprocessor__num': [StandardScaler(), MinMaxScaler(), 'passthrough']\n",
    "    },\n",
    "\n",
    "    # словарь для модели SVC(kernel='linear')\n",
    "    {\n",
    "        'models': [SVC(\n",
    "            kernel='linear', \n",
    "            random_state=RANDOM_STATE)],\n",
    "        'models__C': [0.1,1,10,100],\n",
    "        'models__gamma': [0.1,1,10,100],\n",
    "        'preprocessor__num': [StandardScaler(), MinMaxScaler(), 'passthrough']\n",
    "    },\n",
    "\n",
    "    # словарь для модели SVC(kernel='sigmoid')\n",
    "    {\n",
    "        'models': [SVC(\n",
    "            kernel='sigmoid', \n",
    "            random_state=RANDOM_STATE)],\n",
    "        'models__C': [0.1,1,10,100],\n",
    "        'models__gamma': [0.1,1,10,100],\n",
    "        'preprocessor__num': [StandardScaler(), MinMaxScaler(), 'passthrough']\n",
    "    },\n",
    "\n",
    "    # словарь для модели SVC(kernel='poly')\n",
    "    {\n",
    "        'models': [SVC(\n",
    "            kernel='poly', \n",
    "            random_state=RANDOM_STATE)],\n",
    "        'models__degree': range(3, 10),\n",
    "        'models__C': [0.1,1,10,100],\n",
    "        'preprocessor__num': [StandardScaler(), MinMaxScaler(), 'passthrough']\n",
    "    }\n",
    "]\n",
    "\n",
    "randomized_search = RandomizedSearchCV(\n",
    "    pipe_final, \n",
    "    param_grid, \n",
    "    cv=5,\n",
    "    scoring=scoring,\n",
    "    refit='recall_score',\n",
    "    random_state=RANDOM_STATE,\n",
    "    n_jobs=-1\n",
    ")\n",
    "randomized_search.fit(X_train, y_train)"
   ]
  },
  {
   "cell_type": "code",
   "execution_count": null,
   "id": "948189cf-042e-408b-b1a3-23a3906dba1d",
   "metadata": {},
   "outputs": [],
   "source": [
    "randomized_search.best_estimator_"
   ]
  },
  {
   "cell_type": "code",
   "execution_count": null,
   "id": "b704de68-10d6-4d35-96db-c4aad0dbf8dc",
   "metadata": {},
   "outputs": [],
   "source": [
    "print ('Метрика лучшей модели на тренировочной выборке:', randomized_search.best_score_)"
   ]
  },
  {
   "cell_type": "code",
   "execution_count": null,
   "id": "6b804a42-3ccb-43bb-b62c-c6282c0e5c26",
   "metadata": {},
   "outputs": [],
   "source": [
    "y_test_pred = randomized_search.predict(X_test)\n",
    "print(f'Метрика Recall на тестовой выборке: {recall_score(y_test, y_test_pred)}')"
   ]
  },
  {
   "cell_type": "markdown",
   "id": "86302d73-bcec-4a25-8515-96888d6f7249",
   "metadata": {},
   "source": [
    "Результат не плохой. SVC с параметрами C=10, gamma=0.1 получил результат 0.79 на тренировочной выборке и 0.79 на тестовой. Интерестно, что отдельный пайплайн с полиномиальным ядром показал другие лучшие параметры. На тренировочных данных метрика 0.82, а на тестовых ниже - 0.8. \n",
    "\n",
    "Посмотрим как отработает поиск лучшей модели по сетке."
   ]
  },
  {
   "cell_type": "code",
   "execution_count": null,
   "id": "f194172c-ae61-4a68-979a-e7cdf28f3e95",
   "metadata": {},
   "outputs": [],
   "source": [
    "param_grid = [\n",
    "    # словарь для модели DecisionTreeClassifier()\n",
    "    {\n",
    "        'models': [DecisionTreeClassifier(random_state=RANDOM_STATE)],\n",
    "        'models__max_depth': range(2, 15),\n",
    "        'models__max_features': range(2, 10),\n",
    "        'models__min_samples_split': range(2,5),\n",
    "        'preprocessor__num': [StandardScaler(), MinMaxScaler(), 'passthrough']  \n",
    "    },\n",
    "    \n",
    "    # словарь для модели KNeighborsClassifier() \n",
    "    {\n",
    "        'models': [KNeighborsClassifier()],\n",
    "        'models__n_neighbors': range(2, 10),\n",
    "        'models__metric': ['minkowski', 'euclidean', 'cityblock'],\n",
    "        'preprocessor__num': [StandardScaler(), MinMaxScaler(), 'passthrough']   \n",
    "    },\n",
    "\n",
    "    # словарь для модели LogisticRegression()\n",
    "    {\n",
    "        'models': [LogisticRegression(\n",
    "            random_state=RANDOM_STATE, \n",
    "            solver='liblinear', \n",
    "            penalty='l1'\n",
    "        )],\n",
    "        'models__C': range(1, 5),\n",
    "        'preprocessor__num': [StandardScaler(), MinMaxScaler(), 'passthrough']  \n",
    "    },\n",
    "\n",
    "    # словарь для модели SVC()\n",
    "    {\n",
    "        'models': [SVC()],\n",
    "        'models__C': [0.1,1,10,100],\n",
    "        'models__gamma': [0.1,1,10,100],\n",
    "        'preprocessor__num': [StandardScaler(), MinMaxScaler(), 'passthrough']\n",
    "    },\n",
    "\n",
    "    # словарь для модели SVC(kernel='linear')\n",
    "    {\n",
    "        'models': [SVC(\n",
    "            kernel='linear', \n",
    "            random_state=RANDOM_STATE)],\n",
    "        'models__C': [0.1,1,10,100],\n",
    "        'models__gamma': [0.1,1,10,100],\n",
    "        'preprocessor__num': [StandardScaler(), MinMaxScaler(), 'passthrough']\n",
    "    },\n",
    "\n",
    "    # словарь для модели SVC(kernel='sigmoid')\n",
    "    {\n",
    "        'models': [SVC(\n",
    "            kernel='sigmoid', \n",
    "            random_state=RANDOM_STATE)],\n",
    "        'models__C': [0.1,1,10,100],\n",
    "        'models__gamma': [0.1,1,10,100],\n",
    "        'preprocessor__num': [StandardScaler(), MinMaxScaler(), 'passthrough']\n",
    "    },\n",
    "\n",
    "    # словарь для модели SVC(kernel='poly')\n",
    "    {\n",
    "        'models': [SVC(\n",
    "            kernel='poly', \n",
    "            random_state=RANDOM_STATE)],\n",
    "        'models__degree': range(3, 10),\n",
    "        'models__C': [0.1,1,10,100],\n",
    "        'preprocessor__num': [StandardScaler(), MinMaxScaler(), 'passthrough']\n",
    "    }\n",
    "]\n",
    "\n",
    "grid_search = GridSearchCV(\n",
    "    pipe_final, \n",
    "    param_grid, \n",
    "    cv=5,\n",
    "    scoring=scoring,\n",
    "    refit='recall_score',\n",
    "    n_jobs=-1\n",
    ")\n",
    "grid_search.fit(X_train, y_train)"
   ]
  },
  {
   "cell_type": "code",
   "execution_count": null,
   "id": "78a7749b-9faf-4e0a-a860-e76fbde161d0",
   "metadata": {},
   "outputs": [],
   "source": [
    "grid_search.best_estimator_"
   ]
  },
  {
   "cell_type": "code",
   "execution_count": null,
   "id": "0b7d6c3f-8e09-4367-8fbe-9ee5344b4695",
   "metadata": {},
   "outputs": [],
   "source": [
    "print ('Метрика лучшей модели на тренировочной выборке:', grid_search.best_score_)"
   ]
  },
  {
   "cell_type": "code",
   "execution_count": null,
   "id": "c45db33f-034d-4560-8e8d-2e5a90a65597",
   "metadata": {},
   "outputs": [],
   "source": [
    "y_test_pred = grid_search.predict(X_test)\n",
    "print(f'Метрика Recall на тестовой выборке: {recall_score(y_test, y_test_pred)}')"
   ]
  },
  {
   "cell_type": "markdown",
   "id": "b9ed8404-2b45-41dd-8887-b13225817b33",
   "metadata": {},
   "source": [
    "Любопытно, что лучшая модель здесь - это как раз полином 9 степени, с лучшей метрикой на тренировочной выборке и худшей на тестовой. SVC с ядром rbf оказался лучше. Но мы бы этого не узнали, если бы не RandomizedSearchCV.\n",
    "\n",
    "Итем не менее самый высокий результат на тестовых данных у Дерева решений с параметрами \n",
    "\n",
    "`'models__max_depth': 14, 'models__max_features': 7, 'models__min_samples_split': 2, 'preprocessor__num': StandardScaler()`\n",
    "\n",
    "Использовать будем его."
   ]
  },
  {
   "cell_type": "code",
   "execution_count": null,
   "id": "999a3eb4-2008-41c6-a3e9-70102831229c",
   "metadata": {},
   "outputs": [],
   "source": [
    "preprocessor_best = ColumnTransformer(\n",
    "    [('ohe', OneHotEncoder(drop='first', handle_unknown='ignore', sparse_output=False), ohe_columns),\n",
    "     ('ord', OrdinalEncoder(\n",
    "                categories=[\n",
    "                    ['Товары для детей', 'Домашний текстиль', 'Косметика и аксесуары',\n",
    "                    'Техника для красоты и здоровья', 'Кухонная посуда',\n",
    "                    'Мелкая бытовая техника и электроника']]), \n",
    "      ord_columns\n",
    "     ),\n",
    "     ('num', StandardScaler(), num_columns)\n",
    "    ], \n",
    "    remainder='passthrough'\n",
    ")\n",
    "\n",
    "model = DecisionTreeClassifier(\n",
    "    max_depth=14, \n",
    "    max_features=7, \n",
    "    min_samples_split=2,\n",
    "    random_state=RANDOM_STATE\n",
    ")\n",
    "\n",
    "pipeline = make_pipeline(\n",
    "    preprocessor_best,\n",
    "    model\n",
    ")\n",
    "pipeline"
   ]
  },
  {
   "cell_type": "code",
   "execution_count": null,
   "id": "0a774508-72ac-4149-967f-3c316dc3ea92",
   "metadata": {},
   "outputs": [],
   "source": [
    "pipeline.fit(X_train, y_train)\n",
    "y_pred = pipeline.predict(X_test)\n",
    "recall_score(y_test, y_pred)"
   ]
  },
  {
   "cell_type": "code",
   "execution_count": null,
   "id": "e12b4b70-05dc-4762-9e2f-3ca6a1c0412d",
   "metadata": {},
   "outputs": [],
   "source": [
    "pipeline.named_steps['decisiontreeclassifier']"
   ]
  },
  {
   "cell_type": "markdown",
   "id": "7175a4b7-e967-41ff-84b9-d9e164921a5c",
   "metadata": {},
   "source": [
    "## [Анализ важности признаков](#plan) <a id='7'></a>"
   ]
  },
  {
   "cell_type": "code",
   "execution_count": null,
   "id": "e24408fc-4f3d-479b-a56c-b6992bd65b06",
   "metadata": {},
   "outputs": [],
   "source": [
    "ohe = OneHotEncoder(drop='first', handle_unknown='ignore', sparse_output=False)\n",
    "X_train_ohe = ohe.fit_transform(X_train[ohe_columns])\n",
    "X_test_ohe = ohe.transform(X_test[ohe_columns])\n",
    "\n",
    "ord = OrdinalEncoder(categories=[['Товары для детей', 'Домашний текстиль',\n",
    "                            'Косметика и аксесуары',\n",
    "                            'Техника для красоты и здоровья', 'Кухонная посуда',\n",
    "                            'Мелкая бытовая техника и электроника']])\n",
    "X_train_ord = ord.fit_transform(X_train[ord_columns])\n",
    "X_test_ord = ord.transform(X_test[ord_columns])\n",
    "\n",
    "scaler = StandardScaler()\n",
    "X_train_scaled = scaler.fit_transform(X_train[num_columns])\n",
    "X_test_scaled = scaler.transform(X_test[num_columns])\n",
    "\n",
    "X_train_final = np.hstack((X_train_ord, X_train_ohe, X_train_scaled))\n",
    "X_test_final = np.hstack((X_test_ord, X_test_ohe, X_test_scaled))\n",
    "\n",
    "dtc_model = DecisionTreeClassifier(\n",
    "    max_depth=14, \n",
    "    max_features=7, \n",
    "    min_samples_split=2,\n",
    "    random_state=RANDOM_STATE\n",
    ")"
   ]
  },
  {
   "cell_type": "code",
   "execution_count": null,
   "id": "07810db6-92f5-4cb8-b3b1-4b84abaa7ca6",
   "metadata": {},
   "outputs": [],
   "source": [
    "dtc_model.fit(X_train_final, y_train)"
   ]
  },
  {
   "cell_type": "code",
   "execution_count": null,
   "id": "a79391be-8192-4ad6-9278-c390ef73a889",
   "metadata": {},
   "outputs": [],
   "source": [
    "y_pred = dtc_model.predict(X_test_final)"
   ]
  },
  {
   "cell_type": "code",
   "execution_count": null,
   "id": "acdca495-b513-46da-bc9f-74c51aade0cc",
   "metadata": {},
   "outputs": [],
   "source": [
    "ord_columns.append(ohe_columns[0])\n",
    "ord_columns"
   ]
  },
  {
   "cell_type": "code",
   "execution_count": null,
   "id": "1d25872f-5d6d-4685-a434-1724ca42875e",
   "metadata": {},
   "outputs": [],
   "source": [
    "columns = [\n",
    "    'Популярная_категория', 'Разрешить_сообщать','Выручка_предыдущий_месяц',\n",
    "    'Выручка_предпредыдущий_месяц',\n",
    "    'Маркет_актив_6_мес',\n",
    "    'минут_предыдущий_месяц',\n",
    "    'минут_текущий_месяц',\n",
    "    'Страниц_за_визит',\n",
    "    'Ошибка_сервиса',\n",
    "    'Неоплаченные_продукты_штук_квартал',\n",
    "    'Средний_просмотр_категорий_за_визит',\n",
    "    'Акционные_покупки',\n",
    "    'Длительность'\n",
    "]"
   ]
  },
  {
   "cell_type": "code",
   "execution_count": null,
   "id": "1634fb3c-0bb3-430c-ab70-eda7c7e92b47",
   "metadata": {},
   "outputs": [],
   "source": [
    "coefficients = dtc_model.feature_importances_\n",
    "\n",
    "sns.set_style('white')\n",
    "feature_importance = pd.DataFrame({\n",
    "    'Feature': columns, \n",
    "    'Importance': np.abs(coefficients)})\n",
    "feature_importance = feature_importance.sort_values('Importance', ascending=True)\n",
    "feature_importance.plot(x='Feature', y='Importance', kind='barh', figsize=(10, 6)); "
   ]
  },
  {
   "cell_type": "code",
   "execution_count": null,
   "id": "5adf9ffc-1a34-46d8-bf96-c6f579b41759",
   "metadata": {},
   "outputs": [],
   "source": [
    "#pd.DataFrame(X_test_final, market.drop('Покупательская_активность', axis=1).columns)\n",
    "df = pd.DataFrame(X_test_final)"
   ]
  },
  {
   "cell_type": "code",
   "execution_count": null,
   "id": "acfed75e-8f08-4f51-a6ee-84e459507b2b",
   "metadata": {},
   "outputs": [],
   "source": [
    "df.columns = columns\n",
    "df"
   ]
  },
  {
   "cell_type": "code",
   "execution_count": null,
   "id": "56066433-0ede-45b9-ae5e-ef4885cca114",
   "metadata": {},
   "outputs": [],
   "source": [
    "explainer = shap.TreeExplainer(dtc_model)\n",
    "shap_values = explainer(pd.DataFrame(X_test_final))"
   ]
  },
  {
   "cell_type": "code",
   "execution_count": null,
   "id": "d2c0917d-d638-4d53-b49e-020d2454902a",
   "metadata": {},
   "outputs": [],
   "source": [
    "shap.summary_plot(shap_values)"
   ]
  },
  {
   "cell_type": "code",
   "execution_count": null,
   "id": "0e64d7b4-629c-49ac-b681-da62097c2675",
   "metadata": {},
   "outputs": [],
   "source": [
    "shap.summary_plot(explainer, pd.DataFrame(X_test_final), max_display=25, auto_size_plot=True)"
   ]
  },
  {
   "cell_type": "code",
   "execution_count": null,
   "id": "0bae97d6-812f-4b66-a691-20880afe0b7c",
   "metadata": {},
   "outputs": [],
   "source": [
    "import shap\n",
    "shap.initjs()\n",
    "# model = DecisionTreeClassifier(\n",
    "#     max_depth=14, \n",
    "#     max_features=7, \n",
    "#     min_samples_split=2,\n",
    "#     random_state=RANDOM_STATE\n",
    "# )\n",
    "# X_test_prep = pipeline.transform(X_test)\n",
    "# explainer = shap.TreeExplainer(pipeline.named_steps['decisiontreeclassifier']).shap_values(X_test_prep)\n",
    "\n",
    "# shap.summary_plot(explainer, X_test_prep, max_display=25, auto_size_plot=True)\n",
    "# # shap_values = explainer(X_test_prep)\n",
    "# # shap_values\n",
    "# #shap.plots.bar(shap_values, max_display=17)"
   ]
  },
  {
   "cell_type": "code",
   "execution_count": null,
   "id": "1191077a-8c5d-490a-a454-af1a2dbda0c8",
   "metadata": {},
   "outputs": [],
   "source": [
    "shap.plots.beeswarm(shap_values, max_display=16)"
   ]
  },
  {
   "cell_type": "code",
   "execution_count": null,
   "id": "c36bae56-2c7e-4903-8690-bf117805930f",
   "metadata": {},
   "outputs": [],
   "source": [
    "shap.plots.bar(shap_values)"
   ]
  },
  {
   "cell_type": "code",
   "execution_count": null,
   "id": "3d62575d-200a-4c84-84ce-39cc5fb4f4df",
   "metadata": {},
   "outputs": [],
   "source": []
  },
  {
   "cell_type": "code",
   "execution_count": null,
   "id": "272b9e2b-6b55-490c-a0a8-4afb42ecedcb",
   "metadata": {},
   "outputs": [],
   "source": []
  },
  {
   "cell_type": "markdown",
   "id": "e8d9b43b-65d7-45eb-9676-c15cf18ecc85",
   "metadata": {},
   "source": [
    "## Шаги"
   ]
  },
  {
   "cell_type": "markdown",
   "id": "bd7e8833-e3ad-447c-a241-da65669a1e91",
   "metadata": {},
   "source": [
    "Шаг 6. Использование пайплайнов\n",
    "Примените все изученные модели. Для этого используйте пайплайны.\n",
    "\n",
    "6.1 Во время подготовки данных используйте ColumnTransformer. Количественные и категориальные признаки обработайте в пайплайне раздельно. Для кодирования категориальных признаков используйте как минимум два кодировщика, для масштабирования количественных — как минимум два скейлера.\n",
    "Напоминаем, что для каждой модели можно подготовить данные с разным кодированием и масштабированием.\n",
    "\n",
    "6.2 Обучите четыре модели: KNeighborsClassifier(), DecisionTreeClassifier(), LogisticRegression() и  SVC(). Для каждой из них подберите как минимум один гиперпараметр. Выберите подходящую для задачи метрику, аргументируйте свой выбор. Используйте эту метрику при подборе гиперпараметров.\n",
    "\n",
    "6.3 Выберите лучшую модель, используя заданную метрику. Для этого примените одну из стратегий:\n",
    "использовать пайплайны и инструменты подбора гиперпараметров для каждой модели отдельно, чтобы выбрать лучшую модель самостоятельно;\n",
    "использовать один общий пайплайн для всех моделей и инструмент подбора гиперпараметров, который вернёт вам лучшую модель.\n",
    "\n",
    "Шаг 7. Анализ важности признаков\n",
    "\n",
    "7.1 Оцените важность признаков для лучшей модели и постройте график важности с помощью метода SHAP. \n",
    "\n",
    "7.2 Сделайте выводы о значимости признаков:\n",
    "какие признаки мало значимы для модели;\n",
    "какие признаки сильнее всего влияют на целевой признак;\n",
    "как можно использовать эти наблюдения при моделировании и принятии бизнес-решений.\n",
    "\n",
    "Шаг 8. Сегментация покупателей\n",
    "\n",
    "8.1 Выполните сегментацию покупателей. Используйте результаты моделирования и данные о прибыльности покупателей.\n",
    "\n",
    "8.2 Выберите группу покупателей и предложите, как увеличить её покупательскую активность: \n",
    "Проведите графическое и аналитическое исследование группы покупателей.\n",
    "Сделайте предложения по работе с сегментом для увеличения покупательской активности.\n",
    "\n",
    "8.3 Сделайте выводы о сегментах:\n",
    "какой сегмент вы взяли для дополнительного исследования,\n",
    "какие предложения вы сделали и почему.\n",
    "\n",
    "Шаг 9. Общий вывод\n",
    "Сделайте общий вывод:\n",
    "- опишите задачу;\n",
    "- опишите исходные данные и проведённую предобработку;\n",
    "- напишите, что вы сделали для поиска лучшей модели;\n",
    "- укажите лучшую модель;\n",
    "- добавьте выводы и дополнительные предложения для выбранного сегмента покупателей."
   ]
  }
 ],
 "metadata": {
  "kernelspec": {
   "display_name": "Python 3 (ipykernel)",
   "language": "python",
   "name": "python3"
  },
  "language_info": {
   "codemirror_mode": {
    "name": "ipython",
    "version": 3
   },
   "file_extension": ".py",
   "mimetype": "text/x-python",
   "name": "python",
   "nbconvert_exporter": "python",
   "pygments_lexer": "ipython3",
   "version": "3.9.18"
  }
 },
 "nbformat": 4,
 "nbformat_minor": 5
}
